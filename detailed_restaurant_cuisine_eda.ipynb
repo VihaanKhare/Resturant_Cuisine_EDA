{
 "cells": [
  {
   "cell_type": "markdown",
   "id": "ef3f9b2f",
   "metadata": {},
   "source": [
    "# Detailed EDA for Restaurant Cuisine Dataset"
   ]
  },
  {
   "cell_type": "code",
   "execution_count": null,
   "id": "c63b09b0",
   "metadata": {},
   "outputs": [],
   "source": [
    "import pandas as pd\n",
    "import numpy as np\n",
    "import seaborn as sns\n",
    "import matplotlib.pyplot as plt\n",
    "from scipy import stats\n",
    "from sklearn.preprocessing import LabelEncoder\n",
    "\n",
    "df = pd.read_csv('C:\\\\Users\\\\91767\\\\Downloads\\\\archive\\\\Cuisine_rating.csv')\n",
    "print(df.head())\n",
    "print(df.isnull().sum())\n",
    "df_clean = df.dropna()\n",
    "print(df.dtypes)\n",
    "print(df.describe())"
   ]
  },
  {
   "cell_type": "code",
   "execution_count": null,
   "id": "33ed4ef1",
   "metadata": {},
   "outputs": [],
   "source": [
    "plt.figure(figsize=(10, 6))\n",
    "sns.countplot(data=df_clean, x='Cuisine_Type')\n",
    "plt.xticks(rotation=90)\n",
    "plt.title('Distribution of Cuisines')\n",
    "plt.show()"
   ]
  },
  {
   "cell_type": "code",
   "execution_count": null,
   "id": "5336e90a",
   "metadata": {},
   "outputs": [],
   "source": [
    "plt.figure(figsize=(8, 6))\n",
    "sns.histplot(df_clean['Rating'], bins=20, kde=True)\n",
    "plt.title('Distribution of Ratings')\n",
    "plt.show()"
   ]
  },
  {
   "cell_type": "code",
   "execution_count": null,
   "id": "589bb9ca",
   "metadata": {},
   "outputs": [],
   "source": [
    "plt.figure(figsize=(8, 6))\n",
    "sns.boxplot(df_clean['Rating'])\n",
    "plt.title('Boxplot of Ratings')\n",
    "plt.show()"
   ]
  },
  {
   "cell_type": "code",
   "execution_count": null,
   "id": "805960af",
   "metadata": {},
   "outputs": [],
   "source": [
    "plt.figure(figsize=(8, 6))\n",
    "sns.histplot(df_clean['Votes'], bins=20, kde=True)\n",
    "plt.title('Distribution of Votes')\n",
    "plt.show()"
   ]
  },
  {
   "cell_type": "code",
   "execution_count": null,
   "id": "4d2cf16f",
   "metadata": {},
   "outputs": [],
   "source": [
    "plt.figure(figsize=(8, 6))\n",
    "sns.scatterplot(x='Votes', y='Rating', data=df_clean)\n",
    "plt.title('Ratings vs Votes')\n",
    "plt.show()"
   ]
  },
  {
   "cell_type": "code",
   "execution_count": null,
   "id": "a4346f47",
   "metadata": {},
   "outputs": [],
   "source": [
    "plt.figure(figsize=(10, 6))\n",
    "sns.boxplot(x='Cuisine_Type', y='Rating', data=df_clean)\n",
    "plt.xticks(rotation=90)\n",
    "plt.title('Cuisine Type vs Rating')\n",
    "plt.show()"
   ]
  },
  {
   "cell_type": "code",
   "execution_count": null,
   "id": "884c3c64",
   "metadata": {},
   "outputs": [],
   "source": [
    "plt.figure(figsize=(10, 8))\n",
    "corr = df_clean.corr()\n",
    "sns.heatmap(corr, annot=True, cmap='coolwarm')\n",
    "plt.title('Correlation Matrix')\n",
    "plt.show()"
   ]
  },
  {
   "cell_type": "code",
   "execution_count": null,
   "id": "786f22a8",
   "metadata": {},
   "outputs": [],
   "source": [
    "cuisine_1 = df_clean[df_clean['Cuisine_Type'] == 'Italian']['Rating']\n",
    "cuisine_2 = df_clean[df_clean['Cuisine_Type'] == 'Indian']['Rating']\n",
    "t_stat, p_val = stats.ttest_ind(cuisine_1, cuisine_2)\n",
    "print(f'T-test statistic: {t_stat}, p-value: {p_val}')"
   ]
  },
  {
   "cell_type": "code",
   "execution_count": null,
   "id": "4cd8a734",
   "metadata": {},
   "outputs": [],
   "source": [
    "df_clean['Rating_Category'] = pd.cut(df_clean['Rating'], bins=[0, 3, 4, 5], labels=['Low', 'Medium', 'High'])\n",
    "contingency_table = pd.crosstab(df_clean['Cuisine_Type'], df_clean['Rating_Category'])\n",
    "chi2_stat, p_val, dof, expected = stats.chi2_contingency(contingency_table)\n",
    "print(f'Chi-Square statistic: {chi2_stat}, p-value: {p_val}')"
   ]
  },
  {
   "cell_type": "code",
   "execution_count": null,
   "id": "46b3a71c",
   "metadata": {},
   "outputs": [],
   "source": [
    "anova_stat, p_val = stats.f_oneway(df_clean[df_clean['Cuisine_Type'] == 'Italian']['Rating'],\n",
    "                                   df_clean[df_clean['Cuisine_Type'] == 'Indian']['Rating'],\n",
    "                                   df_clean[df_clean['Cuisine_Type'] == 'Chinese']['Rating'])\n",
    "print(f'ANOVA statistic: {anova_stat}, p-value: {p_val}')"
   ]
  },
  {
   "cell_type": "code",
   "execution_count": null,
   "id": "c448721b",
   "metadata": {},
   "outputs": [],
   "source": [
    "sns.pairplot(df_clean)\n",
    "plt.show()"
   ]
  },
  {
   "cell_type": "code",
   "execution_count": null,
   "id": "c286cd4c",
   "metadata": {},
   "outputs": [],
   "source": [
    "plt.figure(figsize=(8, 6))\n",
    "sns.boxplot(df_clean['Rating'])\n",
    "plt.title('Boxplot of Ratings')\n",
    "plt.show()"
   ]
  },
  {
   "cell_type": "code",
   "execution_count": null,
   "id": "4ae296da",
   "metadata": {},
   "outputs": [],
   "source": [
    "q1 = df_clean['Rating'].quantile(0.25)\n",
    "q3 = df_clean['Rating'].quantile(0.75)\n",
    "iqr = q3 - q1\n",
    "df_clean_no_outliers = df_clean[(df_clean['Rating'] >= q1 - 1.5*iqr) & (df_clean['Rating'] <= q3 + 1.5*iqr)]\n",
    "print(df_clean_no_outliers.shape)"
   ]
  },
  {
   "cell_type": "code",
   "execution_count": null,
   "id": "dc0724a4",
   "metadata": {},
   "outputs": [],
   "source": [
    "corr = df_clean.corr()\n",
    "plt.figure(figsize=(10, 8))\n",
    "sns.heatmap(corr, annot=True, cmap='coolwarm', fmt='.2f')\n",
    "plt.title('Correlation Matrix')\n",
    "plt.show()"
   ]
  },
  {
   "cell_type": "code",
   "execution_count": null,
   "id": "f25eaf1e",
   "metadata": {},
   "outputs": [],
   "source": [
    "le = LabelEncoder()\n",
    "df_clean['Cuisine_Type_encoded'] = le.fit_transform(df_clean['Cuisine_Type'])"
   ]
  },
  {
   "cell_type": "code",
   "execution_count": null,
   "id": "a74fa15e",
   "metadata": {},
   "outputs": [],
   "source": [
    "mean_diff = cuisine_1.mean() - cuisine_2.mean()\n",
    "std_error = np.sqrt(cuisine_1.var()/len(cuisine_1) + cuisine_2.var()/len(cuisine_2))\n",
    "z_score = mean_diff / std_error\n",
    "p_val_z = stats.norm.sf(abs(z_score)) * 2\n",
    "print(f'Z-test statistic: {z_score}, p-value: {p_val_z}')"
   ]
  }
 ],
 "metadata": {
  "language_info": {
   "name": "python"
  }
 },
 "nbformat": 4,
 "nbformat_minor": 5
}
